{
 "cells": [
  {
   "cell_type": "code",
   "execution_count": 2,
   "id": "72453116",
   "metadata": {},
   "outputs": [
    {
     "name": "stdout",
     "output_type": "stream",
     "text": [
      "Requirement already satisfied: mediapipe in c:\\users\\lenovo\\anaconda3\\lib\\site-packages (0.10.2)\n",
      "Requirement already satisfied: opencv-python in c:\\users\\lenovo\\anaconda3\\lib\\site-packages (4.8.0.74)\n",
      "Requirement already satisfied: attrs>=19.1.0 in c:\\users\\lenovo\\anaconda3\\lib\\site-packages (from mediapipe) (22.1.0)\n",
      "Requirement already satisfied: flatbuffers>=2.0 in c:\\users\\lenovo\\anaconda3\\lib\\site-packages (from mediapipe) (23.5.26)\n",
      "Requirement already satisfied: protobuf<4,>=3.11 in c:\\users\\lenovo\\anaconda3\\lib\\site-packages (from mediapipe) (3.20.3)\n",
      "Requirement already satisfied: sounddevice>=0.4.4 in c:\\users\\lenovo\\anaconda3\\lib\\site-packages (from mediapipe) (0.4.6)\n",
      "Requirement already satisfied: opencv-contrib-python in c:\\users\\lenovo\\anaconda3\\lib\\site-packages (from mediapipe) (4.8.0.74)\n",
      "Requirement already satisfied: matplotlib in c:\\users\\lenovo\\anaconda3\\lib\\site-packages (from mediapipe) (3.7.0)\n",
      "Requirement already satisfied: absl-py in c:\\users\\lenovo\\anaconda3\\lib\\site-packages (from mediapipe) (1.4.0)\n",
      "Requirement already satisfied: numpy in c:\\users\\lenovo\\anaconda3\\lib\\site-packages (from mediapipe) (1.23.5)\n",
      "Requirement already satisfied: CFFI>=1.0 in c:\\users\\lenovo\\anaconda3\\lib\\site-packages (from sounddevice>=0.4.4->mediapipe) (1.15.1)\n",
      "Requirement already satisfied: kiwisolver>=1.0.1 in c:\\users\\lenovo\\anaconda3\\lib\\site-packages (from matplotlib->mediapipe) (1.4.4)\n",
      "Requirement already satisfied: contourpy>=1.0.1 in c:\\users\\lenovo\\anaconda3\\lib\\site-packages (from matplotlib->mediapipe) (1.0.5)\n",
      "Requirement already satisfied: cycler>=0.10 in c:\\users\\lenovo\\anaconda3\\lib\\site-packages (from matplotlib->mediapipe) (0.11.0)\n",
      "Requirement already satisfied: pyparsing>=2.3.1 in c:\\users\\lenovo\\anaconda3\\lib\\site-packages (from matplotlib->mediapipe) (3.0.9)\n",
      "Requirement already satisfied: fonttools>=4.22.0 in c:\\users\\lenovo\\anaconda3\\lib\\site-packages (from matplotlib->mediapipe) (4.25.0)\n",
      "Requirement already satisfied: packaging>=20.0 in c:\\users\\lenovo\\anaconda3\\lib\\site-packages (from matplotlib->mediapipe) (22.0)\n",
      "Requirement already satisfied: python-dateutil>=2.7 in c:\\users\\lenovo\\anaconda3\\lib\\site-packages (from matplotlib->mediapipe) (2.8.2)\n",
      "Requirement already satisfied: pillow>=6.2.0 in c:\\users\\lenovo\\anaconda3\\lib\\site-packages (from matplotlib->mediapipe) (9.4.0)\n",
      "Requirement already satisfied: pycparser in c:\\users\\lenovo\\anaconda3\\lib\\site-packages (from CFFI>=1.0->sounddevice>=0.4.4->mediapipe) (2.21)\n",
      "Requirement already satisfied: six>=1.5 in c:\\users\\lenovo\\anaconda3\\lib\\site-packages (from python-dateutil>=2.7->matplotlib->mediapipe) (1.16.0)\n"
     ]
    }
   ],
   "source": [
    "#revise the whole code & its understanding from 'nicholas renotte' youtube video -\"AI pose estimation with python & mediapipe\"\n",
    "#steps involved-0)install and import dependencies 1)make detction 2)determining joints 3)calculate angles 4)curl counter\n",
    "#0) install and import dependencies\n",
    "!pip install mediapipe opencv-python"
   ]
  },
  {
   "cell_type": "code",
   "execution_count": 3,
   "id": "15420c08",
   "metadata": {},
   "outputs": [],
   "source": [
    "import cv2\n",
    "import mediapipe as mp\n",
    "import numpy as np\n",
    "mp_drawing=mp.solutions.drawing_utils\n",
    "mp_pose=mp.solutions.pose"
   ]
  },
  {
   "cell_type": "code",
   "execution_count": 5,
   "id": "1c97ee6d",
   "metadata": {},
   "outputs": [],
   "source": [
    "#video feed\n",
    "cap=cv2.VideoCapture(0)\n",
    "while cap.isOpened():\n",
    "    ret,frame=cap.read()\n",
    "    cv2.imshow('Mediapipe Feed',frame)\n",
    "    \n",
    "    if cv2.waitKey(10) & 0xFF == ord('q'): # here q is used to close the camera video\n",
    "        break\n",
    "        \n",
    "cap.release()\n",
    "cv2.destroyAllWindows()"
   ]
  },
  {
   "cell_type": "markdown",
   "id": "9a04b125",
   "metadata": {},
   "source": [
    "# 1.Make Detections"
   ]
  },
  {
   "cell_type": "code",
   "execution_count": 6,
   "id": "cc1a3ac6",
   "metadata": {},
   "outputs": [],
   "source": [
    "cap=cv2.VideoCapture(0)\n",
    "#setup mediapipe instance\n",
    "with mp_pose.Pose(min_detection_confidence=0.5,min_tracking_confidence=0.5)as pose:\n",
    "    while cap.isOpened():\n",
    "        ret,frame=cap.read()\n",
    "        \n",
    "        #recolor image to RGB\n",
    "        image=cv2.cvtColor(frame,cv2.COLOR_BGR2RGB)\n",
    "        image.flags.writeable=False\n",
    "        \n",
    "        # make detection\n",
    "        results=pose.process(image)\n",
    "        \n",
    "        #recolor back to BGR\n",
    "        image.flags.writeable=True\n",
    "        image=cv2.cvtColor(image,cv2.COLOR_RGB2BGR)\n",
    "        \n",
    "        #render detection\n",
    "        mp_drawing.draw_landmarks(image,results.pose_landmarks,mp_pose.POSE_CONNECTIONS,\n",
    "                                 mp_drawing.DrawingSpec(color=(245,117,66),thickness=2,circle_radius=2),#for original white and red colour replaced with purple and blue  color\n",
    "                                 mp_drawing.DrawingSpec(color=(245,66,230),thickness=2,circle_radius=2)\n",
    "                                 )\n",
    "        \n",
    "        cv2.imshow('Mediapipe Feed',image)\n",
    "    \n",
    "        if cv2.waitKey(10) & 0xFF == ord('q'):\n",
    "            break\n",
    "\n",
    "    \n",
    "        \n",
    "    cap.release()\n",
    "    cv2.destroyAllWindows()"
   ]
  },
  {
   "cell_type": "code",
   "execution_count": 7,
   "id": "c2e946b9",
   "metadata": {},
   "outputs": [
    {
     "data": {
      "text/plain": [
       "landmark {\n",
       "  x: 0.5778611302375793\n",
       "  y: 0.6413304805755615\n",
       "  z: -0.8555189967155457\n",
       "  visibility: 0.9998201727867126\n",
       "}\n",
       "landmark {\n",
       "  x: 0.6104055047035217\n",
       "  y: 0.5840418338775635\n",
       "  z: -0.8195169568061829\n",
       "  visibility: 0.9996147751808167\n",
       "}\n",
       "landmark {\n",
       "  x: 0.62936931848526\n",
       "  y: 0.5830413103103638\n",
       "  z: -0.8195719718933105\n",
       "  visibility: 0.9997076392173767\n",
       "}\n",
       "landmark {\n",
       "  x: 0.6463916301727295\n",
       "  y: 0.5827344655990601\n",
       "  z: -0.8200087547302246\n",
       "  visibility: 0.9996005296707153\n",
       "}\n",
       "landmark {\n",
       "  x: 0.5558419823646545\n",
       "  y: 0.5861978530883789\n",
       "  z: -0.8124527931213379\n",
       "  visibility: 0.9996175765991211\n",
       "}\n",
       "landmark {\n",
       "  x: 0.5414682030677795\n",
       "  y: 0.5872629284858704\n",
       "  z: -0.8116620182991028\n",
       "  visibility: 0.9996957182884216\n",
       "}\n",
       "landmark {\n",
       "  x: 0.5286130905151367\n",
       "  y: 0.5890359878540039\n",
       "  z: -0.8119133114814758\n",
       "  visibility: 0.9996024966239929\n",
       "}\n",
       "landmark {\n",
       "  x: 0.6712098121643066\n",
       "  y: 0.5950801372528076\n",
       "  z: -0.498278945684433\n",
       "  visibility: 0.9997810125350952\n",
       "}\n",
       "landmark {\n",
       "  x: 0.5205559134483337\n",
       "  y: 0.6054652333259583\n",
       "  z: -0.4437999725341797\n",
       "  visibility: 0.9997991919517517\n",
       "}\n",
       "landmark {\n",
       "  x: 0.6148219108581543\n",
       "  y: 0.6984003782272339\n",
       "  z: -0.7285157442092896\n",
       "  visibility: 0.9998628497123718\n",
       "}\n",
       "landmark {\n",
       "  x: 0.55095374584198\n",
       "  y: 0.700150728225708\n",
       "  z: -0.7136942148208618\n",
       "  visibility: 0.9998694658279419\n",
       "}\n",
       "landmark {\n",
       "  x: 0.8091353178024292\n",
       "  y: 0.8806343674659729\n",
       "  z: -0.2878560423851013\n",
       "  visibility: 0.9991658926010132\n",
       "}\n",
       "landmark {\n",
       "  x: 0.4153057634830475\n",
       "  y: 0.8390838503837585\n",
       "  z: -0.24539490044116974\n",
       "  visibility: 0.9989973902702332\n",
       "}\n",
       "landmark {\n",
       "  x: 0.9371248483657837\n",
       "  y: 1.047330379486084\n",
       "  z: -0.30374830961227417\n",
       "  visibility: 0.28977054357528687\n",
       "}\n",
       "landmark {\n",
       "  x: 0.23339077830314636\n",
       "  y: 1.0082883834838867\n",
       "  z: -0.27877432107925415\n",
       "  visibility: 0.5715022683143616\n",
       "}\n",
       "landmark {\n",
       "  x: 0.961469292640686\n",
       "  y: 1.4448384046554565\n",
       "  z: -0.5288328528404236\n",
       "  visibility: 0.0359446182847023\n",
       "}\n",
       "landmark {\n",
       "  x: 0.1505861133337021\n",
       "  y: 1.3246347904205322\n",
       "  z: -0.6861058473587036\n",
       "  visibility: 0.05770544707775116\n",
       "}\n",
       "landmark {\n",
       "  x: 0.9889381527900696\n",
       "  y: 1.544028878211975\n",
       "  z: -0.5956065058708191\n",
       "  visibility: 0.03270634636282921\n",
       "}\n",
       "landmark {\n",
       "  x: 0.1133994460105896\n",
       "  y: 1.4222174882888794\n",
       "  z: -0.7731738686561584\n",
       "  visibility: 0.047163549810647964\n",
       "}\n",
       "landmark {\n",
       "  x: 0.9432109594345093\n",
       "  y: 1.545291543006897\n",
       "  z: -0.640535295009613\n",
       "  visibility: 0.0588623583316803\n",
       "}\n",
       "landmark {\n",
       "  x: 0.16419702768325806\n",
       "  y: 1.4322540760040283\n",
       "  z: -0.8322921991348267\n",
       "  visibility: 0.07970953732728958\n",
       "}\n",
       "landmark {\n",
       "  x: 0.9264446496963501\n",
       "  y: 1.510987639427185\n",
       "  z: -0.5620626211166382\n",
       "  visibility: 0.06089147552847862\n",
       "}\n",
       "landmark {\n",
       "  x: 0.17999611794948578\n",
       "  y: 1.401752233505249\n",
       "  z: -0.7282240986824036\n",
       "  visibility: 0.08473005890846252\n",
       "}\n",
       "landmark {\n",
       "  x: 0.7075677514076233\n",
       "  y: 1.5502164363861084\n",
       "  z: -0.07450679689645767\n",
       "  visibility: 0.00034067852539010346\n",
       "}\n",
       "landmark {\n",
       "  x: 0.4469694495201111\n",
       "  y: 1.5264286994934082\n",
       "  z: 0.07948049157857895\n",
       "  visibility: 0.00029132282361388206\n",
       "}\n",
       "landmark {\n",
       "  x: 0.6806809306144714\n",
       "  y: 2.103375196456909\n",
       "  z: -0.2450418919324875\n",
       "  visibility: 0.0003862934245262295\n",
       "}\n",
       "landmark {\n",
       "  x: 0.4189823567867279\n",
       "  y: 2.0744340419769287\n",
       "  z: -0.04064755141735077\n",
       "  visibility: 0.00014121425920166075\n",
       "}\n",
       "landmark {\n",
       "  x: 0.666240930557251\n",
       "  y: 2.60923171043396\n",
       "  z: 0.14138469099998474\n",
       "  visibility: 5.1719303883146495e-05\n",
       "}\n",
       "landmark {\n",
       "  x: 0.40765780210494995\n",
       "  y: 2.5831053256988525\n",
       "  z: 0.1260722279548645\n",
       "  visibility: 8.751053428568412e-06\n",
       "}\n",
       "landmark {\n",
       "  x: 0.6755713820457458\n",
       "  y: 2.692765235900879\n",
       "  z: 0.14910174906253815\n",
       "  visibility: 4.2301995563320816e-05\n",
       "}\n",
       "landmark {\n",
       "  x: 0.40378761291503906\n",
       "  y: 2.66855788230896\n",
       "  z: 0.12428275495767593\n",
       "  visibility: 2.194841181335505e-05\n",
       "}\n",
       "landmark {\n",
       "  x: 0.5998944044113159\n",
       "  y: 2.7664954662323\n",
       "  z: -0.4184888005256653\n",
       "  visibility: 4.7200686822179705e-05\n",
       "}\n",
       "landmark {\n",
       "  x: 0.43212050199508667\n",
       "  y: 2.7444069385528564\n",
       "  z: -0.44982773065567017\n",
       "  visibility: 3.591748100006953e-05\n",
       "}"
      ]
     },
     "execution_count": 7,
     "metadata": {},
     "output_type": "execute_result"
    }
   ],
   "source": [
    "results.pose_landmarks"
   ]
  },
  {
   "cell_type": "code",
   "execution_count": 8,
   "id": "36379d86",
   "metadata": {},
   "outputs": [
    {
     "data": {
      "text/plain": [
       "frozenset({(0, 1),\n",
       "           (0, 4),\n",
       "           (1, 2),\n",
       "           (2, 3),\n",
       "           (3, 7),\n",
       "           (4, 5),\n",
       "           (5, 6),\n",
       "           (6, 8),\n",
       "           (9, 10),\n",
       "           (11, 12),\n",
       "           (11, 13),\n",
       "           (11, 23),\n",
       "           (12, 14),\n",
       "           (12, 24),\n",
       "           (13, 15),\n",
       "           (14, 16),\n",
       "           (15, 17),\n",
       "           (15, 19),\n",
       "           (15, 21),\n",
       "           (16, 18),\n",
       "           (16, 20),\n",
       "           (16, 22),\n",
       "           (17, 19),\n",
       "           (18, 20),\n",
       "           (23, 24),\n",
       "           (23, 25),\n",
       "           (24, 26),\n",
       "           (25, 27),\n",
       "           (26, 28),\n",
       "           (27, 29),\n",
       "           (27, 31),\n",
       "           (28, 30),\n",
       "           (28, 32),\n",
       "           (29, 31),\n",
       "           (30, 32)})"
      ]
     },
     "execution_count": 8,
     "metadata": {},
     "output_type": "execute_result"
    }
   ],
   "source": [
    "mp_pose.POSE_CONNECTIONS"
   ]
  },
  {
   "cell_type": "code",
   "execution_count": 9,
   "id": "6b6d434b",
   "metadata": {},
   "outputs": [
    {
     "ename": "SyntaxError",
     "evalue": "invalid syntax (88276824.py, line 1)",
     "output_type": "error",
     "traceback": [
      "\u001b[1;36m  Cell \u001b[1;32mIn[9], line 1\u001b[1;36m\u001b[0m\n\u001b[1;33m    mp_drawing.draw_landmarks?? #it gives the details about this function usage and determines details of arguments passing in it\u001b[0m\n\u001b[1;37m                             ^\u001b[0m\n\u001b[1;31mSyntaxError\u001b[0m\u001b[1;31m:\u001b[0m invalid syntax\n"
     ]
    }
   ],
   "source": [
    "mp_drawing.draw_landmarks?? #it gives the details about this function usage and determines details of arguments passing in it"
   ]
  },
  {
   "cell_type": "code",
   "execution_count": 10,
   "id": "29feec49",
   "metadata": {},
   "outputs": [
    {
     "ename": "SyntaxError",
     "evalue": "invalid syntax (4159003815.py, line 1)",
     "output_type": "error",
     "traceback": [
      "\u001b[1;36m  Cell \u001b[1;32mIn[10], line 1\u001b[1;36m\u001b[0m\n\u001b[1;33m    mp_drawing.DrawingSpec?? #it gives the details about this function usage and determines details of arguments passing in it\u001b[0m\n\u001b[1;37m                          ^\u001b[0m\n\u001b[1;31mSyntaxError\u001b[0m\u001b[1;31m:\u001b[0m invalid syntax\n"
     ]
    }
   ],
   "source": [
    "mp_drawing.DrawingSpec?? #it gives the details about this function usage and determines details of arguments passing in it"
   ]
  },
  {
   "cell_type": "markdown",
   "id": "22103e61",
   "metadata": {},
   "source": [
    "## 2. Determining Joints"
   ]
  },
  {
   "cell_type": "markdown",
   "id": "6466bba0",
   "metadata": {},
   "source": [
    "<img src=\"https://www.mdpi.com/applsci/applsci-13-02700/article_deploy/html/images/applsci-13-02700-g001.png\" style=\"height:300px\" >"
   ]
  },
  {
   "cell_type": "code",
   "execution_count": 39,
   "id": "9d7657b3",
   "metadata": {},
   "outputs": [],
   "source": [
    "# above fig is added in model using this link\n",
    "# <img src=\"https://www.mdpi.com/applsci/applsci-13-02700/article_deploy/html/images/applsci-13-02700-g001.png\" style=\"height:300px\" >"
   ]
  },
  {
   "cell_type": "code",
   "execution_count": 11,
   "id": "a2df9853",
   "metadata": {},
   "outputs": [],
   "source": [
    "cap=cv2.VideoCapture(0)\n",
    "#setup mediapipe instance\n",
    "with mp_pose.Pose(min_detection_confidence=0.5,min_tracking_confidence=0.5)as pose:\n",
    "    while cap.isOpened():\n",
    "        ret,frame=cap.read()\n",
    "        \n",
    "        #recolor image to RGB\n",
    "        image=cv2.cvtColor(frame,cv2.COLOR_BGR2RGB)\n",
    "        image.flags.writeable=False\n",
    "        \n",
    "        # make detection\n",
    "        results=pose.process(image)\n",
    "        \n",
    "        #recolor back to BGR\n",
    "        image.flags.writeable=True\n",
    "        image=cv2.cvtColor(image,cv2.COLOR_RGB2BGR)\n",
    "        \n",
    "        #extracting landmarks\n",
    "        try:\n",
    "            landmarks=results.pose_landmarks.landmark\n",
    "            print(landmark)\n",
    "        except:\n",
    "            pass\n",
    "        \n",
    "        #render detection\n",
    "        mp_drawing.draw_landmarks(image,results.pose_landmarks,mp_pose.POSE_CONNECTIONS,\n",
    "                                 mp_drawing.DrawingSpec(color=(245,117,66),thickness=2,circle_radius=2),#for original white and red colour replaced with purple and blue  color\n",
    "                                 mp_drawing.DrawingSpec(color=(245,66,230),thickness=2,circle_radius=2)\n",
    "                                 )\n",
    "        \n",
    "        cv2.imshow('Mediapipe Feed',image)\n",
    "    \n",
    "        if cv2.waitKey(10) & 0xFF == ord('q'):\n",
    "            break\n",
    "\n",
    "    \n",
    "        \n",
    "    cap.release()\n",
    "    cv2.destroyAllWindows()"
   ]
  },
  {
   "cell_type": "code",
   "execution_count": 12,
   "id": "19dc4861",
   "metadata": {},
   "outputs": [
    {
     "data": {
      "text/plain": [
       "33"
      ]
     },
     "execution_count": 12,
     "metadata": {},
     "output_type": "execute_result"
    }
   ],
   "source": [
    "len(landmarks)"
   ]
  },
  {
   "cell_type": "code",
   "execution_count": 33,
   "id": "25bd503e",
   "metadata": {},
   "outputs": [
    {
     "name": "stdout",
     "output_type": "stream",
     "text": [
      "PoseLandmark.NOSE\n",
      "PoseLandmark.LEFT_EYE_INNER\n",
      "PoseLandmark.LEFT_EYE\n",
      "PoseLandmark.LEFT_EYE_OUTER\n",
      "PoseLandmark.RIGHT_EYE_INNER\n",
      "PoseLandmark.RIGHT_EYE\n",
      "PoseLandmark.RIGHT_EYE_OUTER\n",
      "PoseLandmark.LEFT_EAR\n",
      "PoseLandmark.RIGHT_EAR\n",
      "PoseLandmark.MOUTH_LEFT\n",
      "PoseLandmark.MOUTH_RIGHT\n",
      "PoseLandmark.LEFT_SHOULDER\n",
      "PoseLandmark.RIGHT_SHOULDER\n",
      "PoseLandmark.LEFT_ELBOW\n",
      "PoseLandmark.RIGHT_ELBOW\n",
      "PoseLandmark.LEFT_WRIST\n",
      "PoseLandmark.RIGHT_WRIST\n",
      "PoseLandmark.LEFT_PINKY\n",
      "PoseLandmark.RIGHT_PINKY\n",
      "PoseLandmark.LEFT_INDEX\n",
      "PoseLandmark.RIGHT_INDEX\n",
      "PoseLandmark.LEFT_THUMB\n",
      "PoseLandmark.RIGHT_THUMB\n",
      "PoseLandmark.LEFT_HIP\n",
      "PoseLandmark.RIGHT_HIP\n",
      "PoseLandmark.LEFT_KNEE\n",
      "PoseLandmark.RIGHT_KNEE\n",
      "PoseLandmark.LEFT_ANKLE\n",
      "PoseLandmark.RIGHT_ANKLE\n",
      "PoseLandmark.LEFT_HEEL\n",
      "PoseLandmark.RIGHT_HEEL\n",
      "PoseLandmark.LEFT_FOOT_INDEX\n",
      "PoseLandmark.RIGHT_FOOT_INDEX\n"
     ]
    }
   ],
   "source": [
    "for lndmrk in mp_pose.PoseLandmark:\n",
    "    print(lndmrk)"
   ]
  },
  {
   "cell_type": "code",
   "execution_count": 20,
   "id": "b4415ae2",
   "metadata": {},
   "outputs": [
    {
     "data": {
      "text/plain": [
       "11"
      ]
     },
     "execution_count": 20,
     "metadata": {},
     "output_type": "execute_result"
    }
   ],
   "source": [
    "mp_pose.PoseLandmark.LEFT_SHOULDER.value"
   ]
  },
  {
   "cell_type": "code",
   "execution_count": 21,
   "id": "09464815",
   "metadata": {},
   "outputs": [
    {
     "data": {
      "text/plain": [
       "x: 0.7137199640274048\n",
       "y: 0.8338120579719543\n",
       "z: -0.17199507355690002\n",
       "visibility: 0.9991409182548523"
      ]
     },
     "execution_count": 21,
     "metadata": {},
     "output_type": "execute_result"
    }
   ],
   "source": [
    "landmarks[mp_pose.PoseLandmark.LEFT_SHOULDER.value]  #determining x,y,z coordinates of the left shoulder"
   ]
  },
  {
   "cell_type": "code",
   "execution_count": 22,
   "id": "b11e3208",
   "metadata": {},
   "outputs": [
    {
     "data": {
      "text/plain": [
       "x: 0.7520073652267456\n",
       "y: 1.1217491626739502\n",
       "z: -0.13271751999855042\n",
       "visibility: 0.21333245933055878"
      ]
     },
     "execution_count": 22,
     "metadata": {},
     "output_type": "execute_result"
    }
   ],
   "source": [
    "landmarks[mp_pose.PoseLandmark.LEFT_ELBOW.value]   #determining x,y,z coordinates of the left elbow"
   ]
  },
  {
   "cell_type": "code",
   "execution_count": 23,
   "id": "b8e8dd20",
   "metadata": {},
   "outputs": [
    {
     "data": {
      "text/plain": [
       "x: 0.7589461803436279\n",
       "y: 1.4183807373046875\n",
       "z: -0.3414435088634491\n",
       "visibility: 0.018099239096045494"
      ]
     },
     "execution_count": 23,
     "metadata": {},
     "output_type": "execute_result"
    }
   ],
   "source": [
    "landmarks[mp_pose.PoseLandmark.LEFT_WRIST.value]   #determining x,y,z coordinates of the left WRIST"
   ]
  },
  {
   "cell_type": "markdown",
   "id": "239b9ada",
   "metadata": {},
   "source": [
    "### 3. Calculating Angles"
   ]
  },
  {
   "cell_type": "code",
   "execution_count": 13,
   "id": "cc45dc1d",
   "metadata": {},
   "outputs": [],
   "source": [
    "def calculate_angle(a,b,c):\n",
    "    a=np.array(a) #first\n",
    "    b=np.array(b) #mid\n",
    "    c=np.array(c) #end\n",
    "    \n",
    "    radians=np.arctan2(c[1]-b[1],c[0]-b[0])-np.arctan2(a[1]-b[1],a[0]-b[0])\n",
    "    angle=np.abs(radians*180.0/np.pi)\n",
    "    \n",
    "    if angle>180.0:\n",
    "        angle=360-angle\n",
    "        \n",
    "    return angle"
   ]
  },
  {
   "cell_type": "code",
   "execution_count": 14,
   "id": "c69c01e4",
   "metadata": {},
   "outputs": [],
   "source": [
    "shoulder=[landmarks[mp_pose.PoseLandmark.LEFT_SHOULDER.value].x,landmarks[mp_pose.PoseLandmark.LEFT_SHOULDER.value].y]\n",
    "elbow=[landmarks[mp_pose.PoseLandmark.LEFT_ELBOW.value].x,landmarks[mp_pose.PoseLandmark.LEFT_ELBOW.value].y]\n",
    "wrist=[landmarks[mp_pose.PoseLandmark.LEFT_WRIST.value].x,landmarks[mp_pose.PoseLandmark.LEFT_WRIST.value].y]"
   ]
  },
  {
   "cell_type": "code",
   "execution_count": 15,
   "id": "6584381f",
   "metadata": {},
   "outputs": [
    {
     "data": {
      "text/plain": [
       "([0.7137199640274048, 0.8338120579719543],\n",
       " [0.7520073652267456, 1.1217491626739502],\n",
       " [0.7589461803436279, 1.4183807373046875])"
      ]
     },
     "execution_count": 15,
     "metadata": {},
     "output_type": "execute_result"
    }
   ],
   "source": [
    "shoulder,elbow,wrist"
   ]
  },
  {
   "cell_type": "code",
   "execution_count": 16,
   "id": "70528544",
   "metadata": {},
   "outputs": [
    {
     "data": {
      "text/plain": [
       "173.76575267392786"
      ]
     },
     "execution_count": 16,
     "metadata": {},
     "output_type": "execute_result"
    }
   ],
   "source": [
    "calculate_angle(shoulder,elbow,wrist)"
   ]
  },
  {
   "cell_type": "code",
   "execution_count": 24,
   "id": "f5e59406",
   "metadata": {},
   "outputs": [],
   "source": [
    "hip=[landmarks[mp_pose.PoseLandmark.LEFT_HIP.value].x,landmarks[mp_pose.PoseLandmark.LEFT_HIP.value].y]"
   ]
  },
  {
   "cell_type": "code",
   "execution_count": 25,
   "id": "7eada3ca",
   "metadata": {},
   "outputs": [
    {
     "data": {
      "text/plain": [
       "[0.614490807056427, 1.476489543914795]"
      ]
     },
     "execution_count": 25,
     "metadata": {},
     "output_type": "execute_result"
    }
   ],
   "source": [
    "hip"
   ]
  },
  {
   "cell_type": "code",
   "execution_count": 26,
   "id": "dea75e82",
   "metadata": {},
   "outputs": [
    {
     "data": {
      "text/plain": [
       "16.351405142018823"
      ]
     },
     "execution_count": 26,
     "metadata": {},
     "output_type": "execute_result"
    }
   ],
   "source": [
    "calculate_angle(hip,shoulder,elbow)"
   ]
  },
  {
   "cell_type": "code",
   "execution_count": 27,
   "id": "ff4fd720",
   "metadata": {},
   "outputs": [
    {
     "data": {
      "text/plain": [
       "array([481.28471375, 538.43959808])"
      ]
     },
     "execution_count": 27,
     "metadata": {},
     "output_type": "execute_result"
    }
   ],
   "source": [
    "np.multiply(elbow,[640,480])"
   ]
  },
  {
   "cell_type": "code",
   "execution_count": 28,
   "id": "f7ad07e8",
   "metadata": {},
   "outputs": [],
   "source": [
    "cap=cv2.VideoCapture(0)\n",
    "#setup mediapipe instance\n",
    "with mp_pose.Pose(min_detection_confidence=0.5,min_tracking_confidence=0.5)as pose:\n",
    "    while cap.isOpened():\n",
    "        ret,frame=cap.read()\n",
    "        \n",
    "        #recolor image to RGB\n",
    "        image=cv2.cvtColor(frame,cv2.COLOR_BGR2RGB)\n",
    "        image.flags.writeable=False\n",
    "        \n",
    "        # make detection\n",
    "        results=pose.process(image)\n",
    "        \n",
    "        #recolor back to BGR\n",
    "        image.flags.writeable=True\n",
    "        image=cv2.cvtColor(image,cv2.COLOR_RGB2BGR)\n",
    "        \n",
    "        #extracting landmarks\n",
    "        try:\n",
    "            landmarks=results.pose_landmarks.landmark\n",
    "            \n",
    "            #get coordinates\n",
    "            shoulder=[landmarks[mp_pose.PoseLandmark.LEFT_SHOULDER.value].x,landmarks[mp_pose.PoseLandmark.LEFT_SHOULDER.value].y] #first point/start point\n",
    "            elbow=[landmarks[mp_pose.PoseLandmark.LEFT_ELBOW.value].x,landmarks[mp_pose.PoseLandmark.LEFT_ELBOW.value].y]       #second point/mid point\n",
    "            wrist=[landmarks[mp_pose.PoseLandmark.LEFT_WRIST.value].x,landmarks[mp_pose.PoseLandmark.LEFT_WRIST.value].y]     # third point/end point\n",
    "            \n",
    "            #calculate angle\n",
    "            angle=calculate_angle(shoulder,elbow,wrist)\n",
    "            \n",
    "            #visualize angle\n",
    "            cv2.putText(image,str(angle),\n",
    "                       tuple(np.multiply(elbow,[640,480]).astype(int)),\n",
    "                       cv2.FONT_HERSHEY_SIMPLEX,0.5,(255,255,255),2,cv2.LINE_AA\n",
    "                       )\n",
    "            \n",
    "            \n",
    "        except:\n",
    "            pass\n",
    "        \n",
    "        #render detection\n",
    "        mp_drawing.draw_landmarks(image,results.pose_landmarks,mp_pose.POSE_CONNECTIONS,\n",
    "                                 mp_drawing.DrawingSpec(color=(245,117,66),thickness=2,circle_radius=2),#for original white and red colour replaced with purple and blue  color\n",
    "                                 mp_drawing.DrawingSpec(color=(245,66,230),thickness=2,circle_radius=2)\n",
    "                                 )\n",
    "        \n",
    "        cv2.imshow('Mediapipe Feed',image)\n",
    "    \n",
    "        if cv2.waitKey(10) & 0xFF == ord('q'):\n",
    "            break\n",
    "\n",
    "    \n",
    "        \n",
    "    cap.release()\n",
    "    cv2.destroyAllWindows()"
   ]
  },
  {
   "cell_type": "markdown",
   "id": "1fb57a56",
   "metadata": {},
   "source": [
    "# 4.Curl Counter"
   ]
  },
  {
   "cell_type": "code",
   "execution_count": 29,
   "id": "46685563",
   "metadata": {},
   "outputs": [],
   "source": [
    "cap=cv2.VideoCapture(0)\n",
    "\n",
    "#curl counter variables\n",
    "counter=0\n",
    "stage=None\n",
    "\n",
    "\n",
    "#setup mediapipe instance\n",
    "with mp_pose.Pose(min_detection_confidence=0.5,min_tracking_confidence=0.5)as pose:\n",
    "    while cap.isOpened():\n",
    "        ret,frame=cap.read()\n",
    "        \n",
    "        #recolor image to RGB\n",
    "        image=cv2.cvtColor(frame,cv2.COLOR_BGR2RGB)\n",
    "        image.flags.writeable=False\n",
    "        \n",
    "        # make detection\n",
    "        results=pose.process(image)\n",
    "        \n",
    "        #recolor back to BGR\n",
    "        image.flags.writeable=True\n",
    "        image=cv2.cvtColor(image,cv2.COLOR_RGB2BGR)\n",
    "        \n",
    "        #extracting landmarks\n",
    "        try:\n",
    "            landmarks=results.pose_landmarks.landmark\n",
    "            \n",
    "            #get coordinates\n",
    "            shoulder=[landmarks[mp_pose.PoseLandmark.LEFT_SHOULDER.value].x,landmarks[mp_pose.PoseLandmark.LEFT_SHOULDER.value].y] #first point/start point\n",
    "            elbow=[landmarks[mp_pose.PoseLandmark.LEFT_ELBOW.value].x,landmarks[mp_pose.PoseLandmark.LEFT_ELBOW.value].y]       #second point/mid point\n",
    "            wrist=[landmarks[mp_pose.PoseLandmark.LEFT_WRIST.value].x,landmarks[mp_pose.PoseLandmark.LEFT_WRIST.value].y]     # third point/end point\n",
    "            \n",
    "            #calculate angle\n",
    "            angle=calculate_angle(shoulder,elbow,wrist)\n",
    "            \n",
    "            #visualize angle\n",
    "            cv2.putText(image,str(angle),\n",
    "                       tuple(np.multiply(elbow,[640,480]).astype(int)),\n",
    "                       cv2.FONT_HERSHEY_SIMPLEX,0.5,(255,255,255),2,cv2.LINE_AA\n",
    "                       )\n",
    "            \n",
    "            #curl counter logic -to count total no. of reps performed while weight lifting from left hand\n",
    "            if angle>160:\n",
    "                stage=\"down\"\n",
    "            if angle<30 and stage =='down':\n",
    "                stage=\"up\"\n",
    "                counter+=1\n",
    "                #print(counter)\n",
    "                \n",
    "        except:\n",
    "            pass\n",
    "        \n",
    "        #render curl counter\n",
    "        #setup status box\n",
    "        cv2.rectangle(image,(0,0),(255,73),(245,117,16),-1)\n",
    "        \n",
    "        #rep data\n",
    "        cv2.putText(image,'REPS',(15,12),cv2.FONT_HERSHEY_SIMPLEX,0.5,(0,0,0),1,cv2.LINE_AA)\n",
    "        cv2.putText(image,str(counter),(10,60),cv2.FONT_HERSHEY_SIMPLEX,2,(255,255,255),2,cv2.LINE_AA)\n",
    "        \n",
    "        #stage data\n",
    "        cv2.putText(image,'STAGE',(135,12),cv2.FONT_HERSHEY_SIMPLEX,0.5,(0,0,0),1,cv2.LINE_AA) #size of stage title(65,112),color black(0,0,0)\n",
    "        cv2.putText(image,stage,(95,60),cv2.FONT_HERSHEY_SIMPLEX,2,(255,255,255),2,cv2.LINE_AA)\n",
    "        \n",
    "        #render detection\n",
    "        mp_drawing.draw_landmarks(image,results.pose_landmarks,mp_pose.POSE_CONNECTIONS,\n",
    "                                 mp_drawing.DrawingSpec(color=(245,117,66),thickness=2,circle_radius=2),#for original white and red colour replaced with purple and blue  color\n",
    "                                 mp_drawing.DrawingSpec(color=(245,66,230),thickness=2,circle_radius=2)\n",
    "                                 )\n",
    "        \n",
    "        cv2.imshow('Mediapipe Feed',image)\n",
    "    \n",
    "        if cv2.waitKey(10) & 0xFF == ord('q'):\n",
    "            break\n",
    "\n",
    "    \n",
    "        \n",
    "    cap.release()\n",
    "    cv2.destroyAllWindows()"
   ]
  },
  {
   "cell_type": "code",
   "execution_count": null,
   "id": "387231ca",
   "metadata": {},
   "outputs": [],
   "source": []
  }
 ],
 "metadata": {
  "kernelspec": {
   "display_name": "Python 3 (ipykernel)",
   "language": "python",
   "name": "python3"
  },
  "language_info": {
   "codemirror_mode": {
    "name": "ipython",
    "version": 3
   },
   "file_extension": ".py",
   "mimetype": "text/x-python",
   "name": "python",
   "nbconvert_exporter": "python",
   "pygments_lexer": "ipython3",
   "version": "3.10.9"
  }
 },
 "nbformat": 4,
 "nbformat_minor": 5
}
